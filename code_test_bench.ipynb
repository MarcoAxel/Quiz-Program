{
 "cells": [
  {
   "cell_type": "code",
   "execution_count": 10,
   "metadata": {},
   "outputs": [
    {
     "name": "stdout",
     "output_type": "stream",
     "text": [
      "0\n"
     ]
    }
   ],
   "source": [
    "\n",
    "class Quiz:\n",
    "    myDictionary = {}\n",
    "\n",
    "    def main(self):\n",
    "        size= len(self.myDictionary)\n",
    "        print(size)\n",
    "\n",
    "colors_quiz = Quiz()\n",
    "colors_quiz.main()"
   ]
  },
  {
   "cell_type": "code",
   "execution_count": 11,
   "metadata": {},
   "outputs": [],
   "source": [
    "myDictionary = {\"Colors\": \"Marcos\",\n",
    "                \"Planets\": \"Viri\",}\n"
   ]
  },
  {
   "cell_type": "code",
   "execution_count": 22,
   "metadata": {},
   "outputs": [
    {
     "name": "stdout",
     "output_type": "stream",
     "text": [
      "Colors\n",
      "Marcos\n",
      "Planets\n",
      "Viri\n"
     ]
    }
   ],
   "source": [
    "for i  in myDictionary:\n",
    "    print(i)\n",
    "    print(myDictionary[i])"
   ]
  },
  {
   "cell_type": "code",
   "execution_count": 1,
   "metadata": {},
   "outputs": [
    {
     "name": "stdout",
     "output_type": "stream",
     "text": [
      "Enter your answer choice: \n",
      " (To select your choice, type a digit of 1-4, and the press 'Enter')\n",
      "2\n"
     ]
    }
   ],
   "source": [
    "user_chosen_answer_index= -1+int(input(print(\"Enter your answer choice: \\n (To select your choice, type a digit of 1-4, and the press 'Enter')\")))\n",
    "print(user_chosen_answer_index)"
   ]
  },
  {
   "cell_type": "code",
   "execution_count": null,
   "metadata": {},
   "outputs": [],
   "source": [
    "import tkinter as tk\n",
    "from tkinter import messagebox\n",
    "\n",
    "user_data={\"Marcos\":\"1234\"}\n",
    "\n",
    "def create_new_user(username,password):\n",
    "    again= True\n",
    "    while again:\n",
    "        username= username_entry.get()\n",
    "        password= password_entry.get()\n",
    "    \n",
    "        if username in user_data:\n",
    "            print(\"Username is already taken try again.\")\n",
    "            again= True\n",
    "        else:\n",
    "            user_data[username]=password\n",
    "            print(f\"User account for username:{username}, is created\")\n",
    "            again=False\n",
    "\n",
    "def show_users():\n",
    "    print(user_data)\n",
    "\n",
    "def login():\n",
    "    username= username_entry.get()\n",
    "    password= password_entry.get()\n",
    "\n",
    "    \n",
    "    if username in user_data:\n",
    "        if user_data[username] == password:\n",
    "            messagebox.showinfo(\"Login\", \"Login Successful\")\n",
    "        else:\n",
    "            messagebox.showinfo(\"Login\", \"Login Unccessful\")\n",
    "    \n",
    "#create the main window\n",
    "root= tk.Tk()\n",
    "root.title(\"Log in page\")\n",
    "root.geometry(\"300x250\")\n",
    "\n",
    "#username and pw entries\n",
    "tk.Label(root, text=\"Username:\").grid(row=0, column =0, padx=10, pady=10)\n",
    "username_entry = tk.Entry(root)\n",
    "username_entry.grid(row=0, column =1)\n",
    "\n",
    "tk.Label(root, text=\"Password:\").grid(row=1, column =0, padx=10, pady=10)\n",
    "password_entry = tk.Entry(root, show=\"*\")\n",
    "password_entry.grid(row=1, column =1)\n",
    "\n",
    "#login button\n",
    "tk.Button(root, text=\"Login\", command=login).grid(row=2, column=1, pady= 10)\n",
    "\n",
    "tk.Button(root, text=\"Login\", command=login).grid(row=2, column=1, pady=10)\n",
    "tk.Button(root, text=\"Create Account\", command=create_new_user).grid(row=3, column=1, pady=10)\n",
    "\n",
    "#start main loop\n",
    "root.mainloop()"
   ]
  },
  {
   "cell_type": "code",
   "execution_count": null,
   "metadata": {},
   "outputs": [],
   "source": []
  }
 ],
 "metadata": {
  "kernelspec": {
   "display_name": "base",
   "language": "python",
   "name": "python3"
  },
  "language_info": {
   "codemirror_mode": {
    "name": "ipython",
    "version": 3
   },
   "file_extension": ".py",
   "mimetype": "text/x-python",
   "name": "python",
   "nbconvert_exporter": "python",
   "pygments_lexer": "ipython3",
   "version": "3.11.5"
  }
 },
 "nbformat": 4,
 "nbformat_minor": 2
}
