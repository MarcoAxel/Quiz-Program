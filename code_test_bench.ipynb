{
 "cells": [
  {
   "cell_type": "code",
   "execution_count": 10,
   "metadata": {},
   "outputs": [
    {
     "name": "stdout",
     "output_type": "stream",
     "text": [
      "0\n"
     ]
    }
   ],
   "source": [
    "\n",
    "class Quiz:\n",
    "    myDictionary = {}\n",
    "\n",
    "    def main(self):\n",
    "        size= len(self.myDictionary)\n",
    "        print(size)\n",
    "\n",
    "colors_quiz = Quiz()\n",
    "colors_quiz.main()"
   ]
  },
  {
   "cell_type": "code",
   "execution_count": 11,
   "metadata": {},
   "outputs": [],
   "source": [
    "myDictionary = {\"Colors\": \"Marcos\",\n",
    "                \"Planets\": \"Viri\",}\n"
   ]
  },
  {
   "cell_type": "code",
   "execution_count": 22,
   "metadata": {},
   "outputs": [
    {
     "name": "stdout",
     "output_type": "stream",
     "text": [
      "Colors\n",
      "Marcos\n",
      "Planets\n",
      "Viri\n"
     ]
    }
   ],
   "source": [
    "for i  in myDictionary:\n",
    "    print(i)\n",
    "    print(myDictionary[i])"
   ]
  },
  {
   "cell_type": "code",
   "execution_count": 25,
   "metadata": {},
   "outputs": [
    {
     "name": "stdout",
     "output_type": "stream",
     "text": [
      "Enter your answer choice: \n",
      " (To select your choice, type a digit of 1-4, and the press 'Enter')\n",
      "3\n"
     ]
    }
   ],
   "source": [
    "user_chosen_answer_index= -1+int(input(print(\"Enter your answer choice: \\n (To select your choice, type a digit of 1-4, and the press 'Enter')\")))\n",
    "print(user_chosen_answer_index)"
   ]
  },
  {
   "cell_type": "code",
   "execution_count": null,
   "metadata": {},
   "outputs": [],
   "source": []
  }
 ],
 "metadata": {
  "kernelspec": {
   "display_name": "base",
   "language": "python",
   "name": "python3"
  },
  "language_info": {
   "codemirror_mode": {
    "name": "ipython",
    "version": 3
   },
   "file_extension": ".py",
   "mimetype": "text/x-python",
   "name": "python",
   "nbconvert_exporter": "python",
   "pygments_lexer": "ipython3",
   "version": "3.11.5"
  }
 },
 "nbformat": 4,
 "nbformat_minor": 2
}
